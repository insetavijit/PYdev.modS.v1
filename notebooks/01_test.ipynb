{
 "cells": [],
 "metadata": {
  "kernelspec": {
   "display_name": "modS.v1",
   "language": "python",
   "name": "python3"
  },
  "language_info": {
   "name": "python",
   "version": "3.12.11"
  }
 },
 "nbformat": 4,
 "nbformat_minor": 5
}
